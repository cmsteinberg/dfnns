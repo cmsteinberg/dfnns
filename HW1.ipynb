{
  "nbformat": 4,
  "nbformat_minor": 0,
  "metadata": {
    "colab": {
      "name": "HW1.ipynb",
      "provenance": [],
      "collapsed_sections": [],
      "toc_visible": true,
      "authorship_tag": "ABX9TyNxccUaqZSMd2yoaXklgPd/",
      "include_colab_link": true
    },
    "kernelspec": {
      "name": "python3",
      "display_name": "Python 3"
    }
  },
  "cells": [
    {
      "cell_type": "markdown",
      "metadata": {
        "id": "view-in-github",
        "colab_type": "text"
      },
      "source": [
        "<a href=\"https://colab.research.google.com/github/cmsteinberg/dfnns/blob/main/HW1.ipynb\" target=\"_parent\"><img src=\"https://colab.research.google.com/assets/colab-badge.svg\" alt=\"Open In Colab\"/></a>"
      ]
    },
    {
      "cell_type": "markdown",
      "metadata": {
        "id": "Kyi2tBuEWGja"
      },
      "source": [
        "#Question 1\r\n",
        "\r\n",
        "Use the following data and create an array that stores all earners over $100,000.\r\n",
        "<br>\r\n",
        "employees = {'Alice' : 100000,  'Bob' : 99817, 'Carol' : 122908,  'Frank' : 88123,'Eve' : 93121}"
      ]
    },
    {
      "cell_type": "code",
      "metadata": {
        "colab": {
          "base_uri": "https://localhost:8080/"
        },
        "id": "EDpg2N6CV-d0",
        "outputId": "66f6ee0b-8a04-4f0a-a2ee-c16fcd6c5dc3"
      },
      "source": [
        "employees = {'Alice' : 100000,  'Bob' : 99817, 'Carol' : 122908,  'Frank' : 88123,'Eve' : 93121}\r\n",
        "highEarners = []\r\n",
        "for items in employees:\r\n",
        "  if employees[items] > 100000:\r\n",
        "    highEarners.append(items)\r\n",
        "\r\n",
        "print(highEarners)    \r\n"
      ],
      "execution_count": null,
      "outputs": [
        {
          "output_type": "stream",
          "text": [
            "['Carol']\n"
          ],
          "name": "stdout"
        }
      ]
    },
    {
      "cell_type": "markdown",
      "metadata": {
        "id": "cDibD_9UW-44"
      },
      "source": [
        "#Question 2\r\n",
        "\r\n",
        "Create a list of all the even squares from 1 to 1000, and sort it so it is largest to smallest.\r\n"
      ]
    },
    {
      "cell_type": "code",
      "metadata": {
        "colab": {
          "base_uri": "https://localhost:8080/"
        },
        "id": "LWDGZNypXGwN",
        "outputId": "14307f3c-80e1-44eb-be36-57f8772deb95"
      },
      "source": [
        "import math\r\n",
        "\r\n",
        "\r\n",
        "def isNumberEvenSquare(number):\r\n",
        "  if number % 2 == 1:\r\n",
        "    status = False\r\n",
        "  else:\r\n",
        "    root = round(math.sqrt(number))\r\n",
        "    if (root** 2) == number:\r\n",
        "      status =  True\r\n",
        "    else:\r\n",
        "      status = False   \r\n",
        "  return status\r\n",
        "\r\n",
        "evenSquares = []\r\n",
        "\r\n",
        "for num in range(0,1001, 2):\r\n",
        "  if isNumberEvenSquare(num) == True:\r\n",
        "    evenSquares.append(num)\r\n",
        "\r\n",
        "evenSquares.reverse()\r\n",
        "print(evenSquares)\r\n",
        "\r\n",
        "\r\n",
        "\r\n",
        "#better way\r\n",
        "es = []\r\n",
        "for rt in range (0,int(math.sqrt(1001)),2):\r\n",
        "# in order for a square to be even, its roots need to be even\r\n",
        "  es.append(rt * rt)\r\n",
        "\r\n",
        "es.reverse()\r\n",
        "print(es)"
      ],
      "execution_count": null,
      "outputs": [
        {
          "output_type": "stream",
          "text": [
            "[900, 784, 676, 576, 484, 400, 324, 256, 196, 144, 100, 64, 36, 16, 4, 0]\n",
            "[900, 784, 676, 576, 484, 400, 324, 256, 196, 144, 100, 64, 36, 16, 4, 0]\n"
          ],
          "name": "stdout"
        }
      ]
    },
    {
      "cell_type": "markdown",
      "metadata": {
        "id": "PyZ6RXMRXHOb"
      },
      "source": [
        "#Question 3\r\n",
        "\r\n",
        "Find all words in the text that are greater than 6 letters and store in a list: \r\n",
        "<blockquote>​Call me Ishmael. Some years ago - never mind how long precisely - having little or nomoney in my purse, and nothing particular to interest me on shore, I thought I would sail about a little and see the watery part of the world. It is a way I have of driving off the spleen, and regulating the circulation. - Moby Dick'''\r\n",
        "</blockquote>\r\n"
      ]
    },
    {
      "cell_type": "code",
      "metadata": {
        "colab": {
          "base_uri": "https://localhost:8080/"
        },
        "id": "Ux7IVj_yXgo9",
        "outputId": "b231b2f1-8a6a-4d13-b340-d2373ed58e17"
      },
      "source": [
        "stringVal = \"Call me Ishmael. Some years ago - never mind how long precisely - having little or no money in my purse, and nothing particular to interest me on shore, I thought I would sail about a little and see the watery part of the world.  It is a way I have of driving off the spleen, and regulating the circulation. - Moby Dick\"\r\n",
        "\r\n",
        "def containsPuncutation(strng):\r\n",
        "  if '.' in items or ',' in items:\r\n",
        "    status = True\r\n",
        "  else:\r\n",
        "    status = False\r\n",
        "  return status    \r\n",
        "\r\n",
        "words = stringVal.split(' ')\r\n",
        "print(words)\r\n",
        "greaterThanSix = [item for item in words if len(item) > 6]\r\n",
        "for items in greaterThanSix:\r\n",
        "  if len(items) == 7 and containsPuncutation(items):\r\n",
        "    greaterThanSix.remove(items)\r\n",
        "print(greaterThanSix)\r\n",
        "\r\n"
      ],
      "execution_count": null,
      "outputs": [
        {
          "output_type": "stream",
          "text": [
            "['Call', 'me', 'Ishmael.', 'Some', 'years', 'ago', '-', 'never', 'mind', 'how', 'long', 'precisely', '-', 'having', 'little', 'or', 'no', 'money', 'in', 'my', 'purse,', 'and', 'nothing', 'particular', 'to', 'interest', 'me', 'on', 'shore,', 'I', 'thought', 'I', 'would', 'sail', 'about', 'a', 'little', 'and', 'see', 'the', 'watery', 'part', 'of', 'the', 'world.', '', 'It', 'is', 'a', 'way', 'I', 'have', 'of', 'driving', 'off', 'the', 'spleen,', 'and', 'regulating', 'the', 'circulation.', '-', 'Moby', 'Dick']\n",
            "['Ishmael.', 'precisely', 'nothing', 'particular', 'interest', 'thought', 'driving', 'regulating', 'circulation.']\n"
          ],
          "name": "stdout"
        }
      ]
    },
    {
      "cell_type": "markdown",
      "metadata": {
        "id": "_OcPYvLeXhDq"
      },
      "source": [
        "#Question 4\r\n",
        "\r\n",
        "Create a new data set that includes every other data point. ​<br>\r\n",
        "price = <br>\r\n",
        "[[9.9,  9.8,  9.8,  9.4,  9.5,  9.7], <br> \r\n",
        "[9.5, 9.4, 9.4, 9.3, 9.2, 9.1], <br>\r\n",
        "[8.4, 7.9, 7.9, 8.1, 8.0, 8.0], <br> \r\n",
        "[7.1, 5.9,4.8, 4.8, 4.7, 3.9]]"
      ]
    },
    {
      "cell_type": "code",
      "metadata": {
        "colab": {
          "base_uri": "https://localhost:8080/"
        },
        "id": "11XmlbjhYABE",
        "outputId": "7eb0e849-1497-4838-802c-4f8cb9e7e971"
      },
      "source": [
        "price = [[9.9, 9.8, 9.8, 9.4, 9.5, 9.7],\r\n",
        "[9.5, 9.4, 9.4, 9.3, 9.2, 9.1],\r\n",
        "[8.4, 7.9, 7.9, 8.1, 8.0, 8.0],\r\n",
        "[7.1, 5.9,4.8, 4.8, 4.7, 3.9]]\r\n",
        "\r\n",
        "def flattenList(lst):\r\n",
        "  output = []\r\n",
        "  for item in lst:\r\n",
        "    if isinstance(item, (list, tuple)):\r\n",
        "      output.extend(flattenList(item))\r\n",
        "    else:\r\n",
        "      output.append(item)\r\n",
        "  return output\r\n",
        "\r\n",
        "newPrice = []\r\n",
        "flattenedPrice = flattenList(price)\r\n",
        "for index in range (1, len(flattenedPrice), 2):\r\n",
        "  newPrice.append(flattenedPrice[index])\r\n",
        "\r\n",
        "\r\n",
        "print(newPrice)\r\n"
      ],
      "execution_count": null,
      "outputs": [
        {
          "output_type": "stream",
          "text": [
            "[9.8, 9.4, 9.7, 9.4, 9.3, 9.1, 7.9, 8.1, 8.0, 5.9, 4.8, 3.9]\n"
          ],
          "name": "stdout"
        }
      ]
    },
    {
      "cell_type": "markdown",
      "metadata": {
        "id": "vt638fIVYAQ_"
      },
      "source": [
        "#Question 5\r\n",
        "\r\n",
        "Take the data and remove the first and last two values. Create ten copies of the data stored as one list. Use plt.plot to plot it. ​<br>\r\n",
        "cardiac_cycle = [62, 60, 62, 64, 68, 77, 80, 76, 71, 66, 61, 60, 62]\r\n"
      ]
    },
    {
      "cell_type": "code",
      "metadata": {
        "colab": {
          "base_uri": "https://localhost:8080/",
          "height": 320
        },
        "id": "ZVvdi85fzMDu",
        "outputId": "eef3730c-8ba0-4405-aab7-e247198c0d23"
      },
      "source": [
        "import matplotlib.pyplot as plt\r\n",
        "\r\n",
        "\r\n",
        "cardiac_cycle = [62, 60, 62, 64, 68, 77, 80, 76, 71, 66, 61, 60, 62]\r\n",
        "print(cardiac_cycle)\r\n",
        "del cardiac_cycle[0]\r\n",
        "print(cardiac_cycle)\r\n",
        "del cardiac_cycle[len(cardiac_cycle) - 1]\r\n",
        "print(cardiac_cycle)\r\n",
        "\r\n",
        "backup = [item for item in cardiac_cycle * 10]\r\n",
        "\r\n",
        "plt.plot(backup)\r\n",
        "plt.show()\r\n"
      ],
      "execution_count": null,
      "outputs": [
        {
          "output_type": "stream",
          "text": [
            "[62, 60, 62, 64, 68, 77, 80, 76, 71, 66, 61, 60, 62]\n",
            "[60, 62, 64, 68, 77, 80, 76, 71, 66, 61, 60, 62]\n",
            "[60, 62, 64, 68, 77, 80, 76, 71, 66, 61, 60]\n"
          ],
          "name": "stdout"
        },
        {
          "output_type": "display_data",
          "data": {
            "image/png": "[encoded data removed]",
            "text/plain": [
              "<Figure size 432x288 with 1 Axes>"
            ]
          },
          "metadata": {
            "tags": [],
            "needs_background": "light"
          }
        }
      ]
    },
    {
      "cell_type": "markdown",
      "metadata": {
        "id": "mdrsLD6OYOc8"
      },
      "source": [
        "# Question 6\r\n",
        "\r\n",
        "Create a list of any company who pays its employees less than $9 an hour <br>\r\n",
        "\r\n",
        "companies = <br>\r\n",
        "{'CoolCompany' : {'Alice' : 33, 'Bob' : 28, 'Frank' : 29}, <br>\r\n",
        "'CheapCompany' : {'Ann' : 4, 'Lee' : 9, 'Chrisi' : 7},  <br>\r\n",
        "'SosoCompany' : {'Esther' :38, 'Cole' : 8, 'Paris' : 18}}"
      ]
    },
    {
      "cell_type": "code",
      "metadata": {
        "colab": {
          "base_uri": "https://localhost:8080/"
        },
        "id": "af9dyaTQYspU",
        "outputId": "e8d52212-7228-43ac-bfda-3c23ab8e93b6"
      },
      "source": [
        "companies = {'CoolCompany' : {'Alice' : 33, 'Bob' : 28, 'Frank' : 29},\r\n",
        "'CheapCompany' : {'Ann' : 4, 'Lee' : 9, 'Chrisi' : 7},\r\n",
        "'SosoCompany' : {'Esther' :38, 'Cole' : 8, 'Paris' : 18}}\r\n",
        "\r\n",
        "badCompanies = []\r\n",
        "\r\n",
        "for item in companies:\r\n",
        "  for vals in companies[item].values():\r\n",
        "    if vals < 9:\r\n",
        "        badCompanies.append(item) \r\n",
        "print(set(badCompanies))"
      ],
      "execution_count": null,
      "outputs": [
        {
          "output_type": "stream",
          "text": [
            "{'CheapCompany', 'SosoCompany'}\n"
          ],
          "name": "stdout"
        }
      ]
    },
    {
      "cell_type": "markdown",
      "metadata": {
        "id": "ylsnLAzyYs7Y"
      },
      "source": [
        "#Question 7\r\n",
        "\r\n",
        "zip and unzip the following two lists: <br>\r\n",
        "\r\n",
        "​lst_1 = [1, 2, 3] <br>\r\n",
        "and <br>\r\n",
        "lst_2 = [4, 5, 6]"
      ]
    },
    {
      "cell_type": "code",
      "metadata": {
        "colab": {
          "base_uri": "https://localhost:8080/"
        },
        "id": "iGGU9vMdY5Fu",
        "outputId": "b09d32b9-357b-4021-9d9c-100e48a074d6"
      },
      "source": [
        "listOne = [1,2,3]\r\n",
        "\r\n",
        "listTwo  = [4, 5, 6]\r\n",
        "\r\n",
        "for l1,l2, in zip(listOne, listTwo):\r\n",
        "  print(l1,l2)\r\n",
        "\r\n",
        "z =  list(zip(listOne, listTwo))\r\n",
        "u = list(zip(*z))\r\n",
        "\r\n",
        "print(z)\r\n",
        "print(u)\r\n"
      ],
      "execution_count": null,
      "outputs": [
        {
          "output_type": "stream",
          "text": [
            "1 4\n",
            "2 5\n",
            "3 6\n",
            "[(1, 4), (2, 5), (3, 6)]\n",
            "[(1, 2, 3), (4, 5, 6)]\n"
          ],
          "name": "stdout"
        }
      ]
    },
    {
      "cell_type": "markdown",
      "metadata": {
        "id": "CHb0GaBUY52G"
      },
      "source": [
        "#Question 8\r\n",
        "\r\n",
        "Given the matrices a and b. Add, subtract, multiply, and divide a by b. Find the max, min and average as well. <br>\r\n",
        "\r\n",
        "​a = np.array([[1, 0, 0],  [1, 1, 1],   [2, 0, 0]])   <br>   \r\n",
        "\r\n",
        "b =np.array([[1, 1, 1],  [1, 1, 2],    [1, 1, 2]])"
      ]
    },
    {
      "cell_type": "code",
      "metadata": {
        "colab": {
          "base_uri": "https://localhost:8080/"
        },
        "id": "TDQrJl_rZMTW",
        "outputId": "0c42eb05-328b-4cbb-9e6b-ca21776adfa2"
      },
      "source": [
        "import numpy as np\r\n",
        "\r\n",
        "a = np.array([[1, 0, 0], [1, 1, 1], [2, 0, 0]])\r\n",
        "\r\n",
        "\r\n",
        "b =np.array([[1, 1, 1], [1, 1, 2], [1, 1, 2]])\r\n",
        "\r\n",
        "\r\n",
        "print(\"Adding\\n\",a + b, \" \\n\")\r\n",
        "\r\n",
        "print(\"Subtracting\\n\", a - b,\" \\n\")\r\n",
        "print(\"Multiplying\\n\", a * b,\" \\n\")\r\n",
        "print(\"Dividing\\n\", a / b,\" \\n\")\r\n",
        "\r\n",
        "\r\n",
        "\r\n",
        "\r\n",
        "print(\"Max\\n\", np.max(a),\" \\n\")\r\n",
        "print(\"Min\\n\", np.min(a),\" \\n\")\r\n",
        "print(\"Avg\\n\", np.average(a),\"\\n\")\r\n",
        "\r\n"
      ],
      "execution_count": null,
      "outputs": [
        {
          "output_type": "stream",
          "text": [
            "Adding\n",
            " [[2 1 1]\n",
            " [2 2 3]\n",
            " [3 1 2]]  \n",
            "\n",
            "Subtracting\n",
            " [[ 0 -1 -1]\n",
            " [ 0  0 -1]\n",
            " [ 1 -1 -2]]  \n",
            "\n",
            "Multiplying\n",
            " [[1 0 0]\n",
            " [1 1 2]\n",
            " [2 0 0]]  \n",
            "\n",
            "Dividing\n",
            " [[1.  0.  0. ]\n",
            " [1.  1.  0.5]\n",
            " [2.  0.  0. ]]  \n",
            "\n",
            "Max\n",
            " 2  \n",
            "\n",
            "Min\n",
            " 0  \n",
            "\n",
            "Avg\n",
            " 0.6666666666666666 \n",
            "\n"
          ],
          "name": "stdout"
        }
      ]
    },
    {
      "cell_type": "markdown",
      "metadata": {
        "id": "pAZ8dc4jZMvW"
      },
      "source": [
        "#Question 9\r\n",
        "\r\n",
        "Find the max salary after taxes are taken out. Here alice, bob, and tim have salaries recorded for the years 2019, 2020, and 2021. \r\n",
        "\r\n",
        "a.alice = [99, 101, 103]\r\n",
        "\r\n",
        "b.bob = [110, 108, 105]\r\n",
        "\r\n",
        "c.tim = [90, 88, 85]\r\n",
        "\r\n",
        "d.salaries = np.array([alice, bob, tim])\r\n",
        "\r\n",
        "e.taxation = <br>\r\n",
        "np.array([[0.2, 0.25, 0.22], <br>\r\n",
        "[0.4, 0.5, 0.5], <br>\r\n",
        "[0.1, 0.2, 0.1]])"
      ]
    },
    {
      "cell_type": "code",
      "metadata": {
        "colab": {
          "base_uri": "https://localhost:8080/"
        },
        "id": "q9Eaur43ZotL",
        "outputId": "d3b06585-c83f-4209-c0ef-9459e8bc3e72"
      },
      "source": [
        "\r\n",
        "alice = np.array([99, 101, 103])\r\n",
        "bob = np.array([110, 108, 105])\r\n",
        "tim = np.array([90, 88, 85])\r\n",
        "\r\n",
        "salaries = np.array([alice, bob, tim])\r\n",
        "\r\n",
        "taxation = np.array([[0.2, 0.25, 0.22],\r\n",
        "[0.4, 0.5, 0.5],\r\n",
        "[0.1, 0.2, 0.1]])\r\n",
        "\r\n",
        "\r\n",
        "tax = salaries * taxation\r\n",
        "afterTaxes = salaries - tax\r\n",
        "maxSalary = np.max(afterTaxes)\r\n",
        "print(maxSalary)"
      ],
      "execution_count": null,
      "outputs": [
        {
          "output_type": "stream",
          "text": [
            "81.0\n"
          ],
          "name": "stdout"
        }
      ]
    },
    {
      "cell_type": "markdown",
      "metadata": {
        "id": "z9fA_vczZpFl"
      },
      "source": [
        "#Question 10\r\n",
        "\r\n",
        "Increase the salary for only data scientists every other year\r\n",
        "\r\n",
        "a.# Data: yearly salary in ($1000) [2019, 2020, 2021]\r\n",
        "\r\n",
        "b.dataScientist =  [130, 132, 137]\r\n",
        "\r\n",
        "c.productManager =  [127, 140, 145]\r\n",
        "\r\n",
        "d.designer =  [118, 118, 127]\r\n",
        "\r\n",
        "e.softwareEngineer =  [129, 131, 137]\r\n",
        "\r\n",
        "f.employees = np.array ([dataScientist, productManager, designer,softwareEngineer])"
      ]
    },
    {
      "cell_type": "code",
      "metadata": {
        "id": "q_hR20UAZ2vK"
      },
      "source": [
        "\r\n",
        "dataScientist = np.array([130, 132, 137])\r\n",
        "productManager = np.array( [127, 140, 145])\r\n",
        "designer = np.array([118, 118, 127])\r\n",
        "softwareEngineer = np.array( [129, 131, 137])\r\n",
        "\r\n",
        "employees = np.array([dataScientist, productManager, designer,softwareEngineer])\r\n",
        "\r\n"
      ],
      "execution_count": null,
      "outputs": []
    },
    {
      "cell_type": "markdown",
      "metadata": {
        "id": "AgbQYPsWZ3Jt"
      },
      "source": [
        "#Question 11\r\n",
        "\r\n",
        "Find all cities with above-average pollution peaks from a set of data.\r\n",
        "\r\n",
        "a. Data: air quality index AQI data (row = city)\r\n",
        "\r\n",
        "b. X = <br>\r\n",
        "np.array([[ 42, 40, 41, 43, 44, 43 ], <br>\r\n",
        "[ 30, 31, 29, 29, 29, 30 ], <br>\r\n",
        "[ 8, 13,31, 11, 11, 9 ], <br>\r\n",
        "[ 11, 11, 12, 13, 11, 12 ]])\r\n",
        "\r\n",
        "c. cities = np.array([\"Hong Kong\", \"New York\", \"Berlin\", \"Montreal\"])"
      ]
    },
    {
      "cell_type": "code",
      "metadata": {
        "colab": {
          "base_uri": "https://localhost:8080/",
          "height": 135
        },
        "id": "YFr1FLN8aWsu",
        "outputId": "fd84fdaf-4d66-4009-97b6-171af81b28dd"
      },
      "source": [
        "X = np.array(([[ 42, 40, 41, 43, 44, 43 ], #HK\r\n",
        "[ 30, 31, 29, 29, 29, 30 ], #NY\r\n",
        "[ 8, 13,31, 11, 11, 9 ], #B\r\n",
        "[ 11, 11, 12, 13, 11, 12]]) \r\n",
        "\r\n",
        "\r\n",
        "\r\n",
        "c = np.array([\"Hong Kong\", \"New York\", \"Berlin\", \"Montreal\"])\r\n",
        "\r\n",
        "averagePeak = np.average(X)\r\n"
      ],
      "execution_count": null,
      "outputs": [
        {
          "output_type": "error",
          "ename": "SyntaxError",
          "evalue": "ignored",
          "traceback": [
            "\u001b[0;36m  File \u001b[0;32m\"<ipython-input-86-7f556c9a0a2a>\"\u001b[0;36m, line \u001b[0;32m8\u001b[0m\n\u001b[0;31m    c = np.array([\"Hong Kong\", \"New York\", \"Berlin\", \"Montreal\"])\u001b[0m\n\u001b[0m    ^\u001b[0m\n\u001b[0;31mSyntaxError\u001b[0m\u001b[0;31m:\u001b[0m invalid syntax\n"
          ]
        }
      ]
    },
    {
      "cell_type": "markdown",
      "metadata": {
        "id": "w0GKSx00aW-k"
      },
      "source": [
        "#Question 12\r\n",
        "\r\n",
        "Given an array of temperature values, replace every seventh temperature value with the average of the last seven days (including the seventh day’s temperaturevalue).\r\n",
        "\r\n",
        "a.# Sensor data (Mo, Tu, We, Th, Fr, Sa, Su)\r\n",
        "\r\n",
        "b.tmp = np.array([1.1, 2.1, 3, 4.6, 3.8, 4.1, 4, 5, 3.3, 3, 4.6, 3.6, 4.2, 6, 6, 5.1, 5.2, 5.6, 4, 5, 5])"
      ]
    },
    {
      "cell_type": "code",
      "metadata": {
        "colab": {
          "base_uri": "https://localhost:8080/",
          "height": 301
        },
        "id": "yLS0A0vHaqX1",
        "outputId": "25f6b3b5-61db-4821-c94b-f889ef737bef"
      },
      "source": [
        "tmp = np.array([1.1, 2.1, 3, 4.6, 3.8, 4.1, 4, 5, 3.3, 3, 4.6, 3.6, 4.2, 6, 6, 5.1, 5.2, 5.6, 4, 5, 5])\r\n",
        "\r\n",
        "print(tmp, \" \\n\")\r\n",
        "\r\n",
        "\r\n",
        "for i in range (6,len(tmp), 7):\r\n",
        "  lastSeven = np.array([])\r\n",
        "  for s in range(i-7, i):\r\n",
        "    lastSeven.append(tmp(s))\r\n",
        "  avgSev = np.average(lastSeven)\r\n",
        "  tmp[i] = avgSev\r\n",
        "\r\n",
        "print(tmp)\r\n"
      ],
      "execution_count": null,
      "outputs": [
        {
          "output_type": "stream",
          "text": [
            "[1.1 2.1 3.  4.6 3.8 4.1 4.  5.  3.3 3.  4.6 3.6 4.2 6.  6.  5.1 5.2 5.6\n",
            " 4.  5.  5. ]  \n",
            "\n"
          ],
          "name": "stdout"
        },
        {
          "output_type": "error",
          "ename": "AttributeError",
          "evalue": "ignored",
          "traceback": [
            "\u001b[0;31m---------------------------------------------------------------------------\u001b[0m",
            "\u001b[0;31mAttributeError\u001b[0m                            Traceback (most recent call last)",
            "\u001b[0;32m<ipython-input-95-fe660fdfc670>\u001b[0m in \u001b[0;36m<module>\u001b[0;34m()\u001b[0m\n\u001b[1;32m      7\u001b[0m   \u001b[0mlastSeven\u001b[0m \u001b[0;34m=\u001b[0m \u001b[0mnp\u001b[0m\u001b[0;34m.\u001b[0m\u001b[0marray\u001b[0m\u001b[0;34m(\u001b[0m\u001b[0;34m[\u001b[0m\u001b[0;34m]\u001b[0m\u001b[0;34m)\u001b[0m\u001b[0;34m\u001b[0m\u001b[0;34m\u001b[0m\u001b[0m\n\u001b[1;32m      8\u001b[0m   \u001b[0;32mfor\u001b[0m \u001b[0ms\u001b[0m \u001b[0;32min\u001b[0m \u001b[0mrange\u001b[0m\u001b[0;34m(\u001b[0m\u001b[0mi\u001b[0m\u001b[0;34m-\u001b[0m\u001b[0;36m7\u001b[0m\u001b[0;34m,\u001b[0m \u001b[0mi\u001b[0m\u001b[0;34m)\u001b[0m\u001b[0;34m:\u001b[0m\u001b[0;34m\u001b[0m\u001b[0;34m\u001b[0m\u001b[0m\n\u001b[0;32m----> 9\u001b[0;31m     \u001b[0mlastSeven\u001b[0m\u001b[0;34m.\u001b[0m\u001b[0mappend\u001b[0m\u001b[0;34m(\u001b[0m\u001b[0mtmp\u001b[0m\u001b[0;34m(\u001b[0m\u001b[0ms\u001b[0m\u001b[0;34m)\u001b[0m\u001b[0;34m)\u001b[0m\u001b[0;34m\u001b[0m\u001b[0;34m\u001b[0m\u001b[0m\n\u001b[0m\u001b[1;32m     10\u001b[0m   \u001b[0mavgSev\u001b[0m \u001b[0;34m=\u001b[0m \u001b[0mnp\u001b[0m\u001b[0;34m.\u001b[0m\u001b[0maverage\u001b[0m\u001b[0;34m(\u001b[0m\u001b[0mlastSeven\u001b[0m\u001b[0;34m)\u001b[0m\u001b[0;34m\u001b[0m\u001b[0;34m\u001b[0m\u001b[0m\n\u001b[1;32m     11\u001b[0m   \u001b[0mtmp\u001b[0m\u001b[0;34m[\u001b[0m\u001b[0mi\u001b[0m\u001b[0;34m]\u001b[0m \u001b[0;34m=\u001b[0m \u001b[0mavgSev\u001b[0m\u001b[0;34m\u001b[0m\u001b[0;34m\u001b[0m\u001b[0m\n",
            "\u001b[0;31mAttributeError\u001b[0m: 'numpy.ndarray' object has no attribute 'append'"
          ]
        }
      ]
    },
    {
      "cell_type": "markdown",
      "metadata": {
        "id": "s9THI_YjaqrT"
      },
      "source": [
        "#Question 13\r\n",
        "\r\n",
        "Create a function and/or lambda expression that checks if two words are anagrams, such as ‘elvis’ and ‘lives’\r\n"
      ]
    },
    {
      "cell_type": "code",
      "metadata": {
        "colab": {
          "base_uri": "https://localhost:8080/"
        },
        "id": "zEKd4ONcawwm",
        "outputId": "05465fe5-6e01-488e-b2af-c46aed3eabd4"
      },
      "source": [
        "def anagramChecker(word1, word2):\r\n",
        "  if sorted(word1) == sorted(word2):\r\n",
        "    status = True\r\n",
        "  else:\r\n",
        "    status = False\r\n",
        "  return status\r\n",
        "\r\n",
        "\r\n",
        "areAnagrams = anagramChecker(\"rat\", \"art\")\r\n",
        "print(areAnagrams)  \r\n"
      ],
      "execution_count": null,
      "outputs": [
        {
          "output_type": "stream",
          "text": [
            "True\n"
          ],
          "name": "stdout"
        }
      ]
    },
    {
      "cell_type": "markdown",
      "metadata": {
        "id": "myrPZcRrauQX"
      },
      "source": [
        "#Question 14\r\n",
        "\r\n",
        "Create a function and/or lambda expression that checks if a phrase is a palindrome "
      ]
    },
    {
      "cell_type": "code",
      "metadata": {
        "colab": {
          "base_uri": "https://localhost:8080/"
        },
        "id": "oUrFBEJVats0",
        "outputId": "68416356-9ef5-4abe-b00a-8a7d771efea3"
      },
      "source": [
        "def palindromeChecker(wordOne, wordTwo):\r\n",
        "  reversed = wordTwo[::-1]\r\n",
        "  \r\n",
        "  oneUpper = wordOne.upper()\r\n",
        "  oneNoSpace = oneUpper.replace(\" \", \"\")\r\n",
        "  \r\n",
        "  twoUpper = reversed.upper()\r\n",
        "  twoNoSpace = twoUpper.replace(\" \", \"\")\r\n",
        "  if oneNoSpace == twoNoSpace:\r\n",
        "    status = True\r\n",
        "  else:\r\n",
        "    status = False\r\n",
        "  return status\r\n",
        "\r\n",
        "print(palindromeChecker(\"rat\", \"tar\"))\r\n",
        "print(palindromeChecker(\"Go hang a salami\", \"im a lasagna hog\"))"
      ],
      "execution_count": null,
      "outputs": [
        {
          "output_type": "stream",
          "text": [
            "True\n",
            "True\n"
          ],
          "name": "stdout"
        }
      ]
    },
    {
      "cell_type": "markdown",
      "metadata": {
        "id": "vobSuLSBa4Ox"
      },
      "source": [
        "#Question 15\r\n",
        "\r\n",
        "Create a recursive factorial lambda\r\n"
      ]
    },
    {
      "cell_type": "code",
      "metadata": {
        "colab": {
          "base_uri": "https://localhost:8080/"
        },
        "id": "hHum3FdMWZtA",
        "outputId": "37493eb6-1cbc-476c-fdac-1aad6ef037bd"
      },
      "source": [
        "fact = lambda x: x if x == 1 or x == 0  else x * fact(x - 1)\r\n",
        "print(fact(5))\r\n"
      ],
      "execution_count": null,
      "outputs": [
        {
          "output_type": "stream",
          "text": [
            "120\n"
          ],
          "name": "stdout"
        }
      ]
    }
  ]
}